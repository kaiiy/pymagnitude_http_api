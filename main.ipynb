{
 "cells": [
  {
   "cell_type": "code",
   "execution_count": 16,
   "metadata": {},
   "outputs": [],
   "source": [
    "import gensim\n",
    "\n",
    "vectors = gensim.models.KeyedVectors.load(\\\n",
    "    \"./chive-1.2-mc90_gensim/chive-1.2-mc90.kv\")"
   ]
  },
  {
   "cell_type": "code",
   "execution_count": 17,
   "metadata": {},
   "outputs": [],
   "source": [
    "word = \"酢橘s\"\n",
    "\n",
    "if word in vectors:\n",
    "    print(vectors[word])"
   ]
  },
  {
   "cell_type": "code",
   "execution_count": 20,
   "metadata": {},
   "outputs": [
    {
     "ename": "AttributeError",
     "evalue": "'KeyedVectors' object has no attribute 'wv'",
     "output_type": "error",
     "traceback": [
      "\u001b[0;31m---------------------------------------------------------------------------\u001b[0m",
      "\u001b[0;31mAttributeError\u001b[0m                            Traceback (most recent call last)",
      "Cell \u001b[0;32mIn [20], line 7\u001b[0m\n\u001b[1;32m      4\u001b[0m \u001b[39mfrom\u001b[39;00m \u001b[39mgensim\u001b[39;00m\u001b[39m.\u001b[39;00m\u001b[39mmodels\u001b[39;00m \u001b[39mimport\u001b[39;00m word2vec\n\u001b[1;32m      5\u001b[0m model \u001b[39m=\u001b[39m word2vec\u001b[39m.\u001b[39mKeyedVectors\u001b[39m.\u001b[39mload(\u001b[39m\"\u001b[39m\u001b[39m./chive-1.2-mc90_gensim/chive-1.2-mc90.kv\u001b[39m\u001b[39m\"\u001b[39m)\n\u001b[0;32m----> 7\u001b[0m sim_value \u001b[39m=\u001b[39m model\u001b[39m.\u001b[39mwv\u001b[39m.\u001b[39mwmdistance(text_list1, text_list2)\n",
      "\u001b[0;31mAttributeError\u001b[0m: 'KeyedVectors' object has no attribute 'wv'"
     ]
    }
   ],
   "source": [
    "text_list1 = [\"私\",\"は\",\"犬\",\"が\",\"好き\",\"です\"]\n",
    "text_list2 = [\"私\",\"は\",\"猫\",\"が\",\"好き\",\"です\"]\n",
    "\n",
    "from gensim.models import word2vec\n",
    "model = word2vec.KeyedVectors.load(\"./chive-1.2-mc90_gensim/chive-1.2-mc90.kv\")\n",
    "\n",
    "sim_value = model.wv.wmdistance(text_list1, text_list2)"
   ]
  }
 ],
 "metadata": {
  "kernelspec": {
   "display_name": "Python 3.10.7 ('.venv': poetry)",
   "language": "python",
   "name": "python3"
  },
  "language_info": {
   "codemirror_mode": {
    "name": "ipython",
    "version": 3
   },
   "file_extension": ".py",
   "mimetype": "text/x-python",
   "name": "python",
   "nbconvert_exporter": "python",
   "pygments_lexer": "ipython3",
   "version": "3.10.7"
  },
  "orig_nbformat": 4,
  "vscode": {
   "interpreter": {
    "hash": "319630aa71d88b2b0e9d40abd08db42feb1902d26b6625f9853ae04ae23c4cf4"
   }
  }
 },
 "nbformat": 4,
 "nbformat_minor": 2
}

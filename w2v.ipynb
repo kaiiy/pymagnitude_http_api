{
 "cells": [
  {
   "cell_type": "code",
   "execution_count": 1,
   "metadata": {},
   "outputs": [
    {
     "ename": "RuntimeError",
     "evalue": "\n----------------------------------------------------------\n\nFailed initializing MeCab. Please see the README for possible solutions:\n\n    https://github.com/SamuraiT/mecab-python3#common-issues\n\nIf you are still having trouble, please file an issue here, and include the\nERROR DETAILS below:\n\n    https://github.com/SamuraiT/mecab-python3/issues\n\nissueを英語で書く必要はありません。\n\n------------------- ERROR DETAILS ------------------------\narguments: \n[ifs] no such file or directory: /usr/local/etc/mecabrc\n----------------------------------------------------------\n",
     "output_type": "error",
     "traceback": [
      "\u001b[0;31m---------------------------------------------------------------------------\u001b[0m",
      "\u001b[0;31mRuntimeError\u001b[0m                              Traceback (most recent call last)",
      "File \u001b[0;32m~/temp/pymagnitude_test/.venv/lib/python3.9/site-packages/MeCab/__init__.py:133\u001b[0m, in \u001b[0;36mTagger.__init__\u001b[0;34m(self, rawargs)\u001b[0m\n\u001b[1;32m    132\u001b[0m \u001b[39mtry\u001b[39;00m:\n\u001b[0;32m--> 133\u001b[0m     \u001b[39msuper\u001b[39;49m(Tagger, \u001b[39mself\u001b[39;49m)\u001b[39m.\u001b[39;49m\u001b[39m__init__\u001b[39;49m(args)\n\u001b[1;32m    134\u001b[0m \u001b[39mexcept\u001b[39;00m \u001b[39mRuntimeError\u001b[39;00m \u001b[39mas\u001b[39;00m ee:\n",
      "\u001b[0;31mRuntimeError\u001b[0m: ",
      "\nThe above exception was the direct cause of the following exception:\n",
      "\u001b[0;31mRuntimeError\u001b[0m                              Traceback (most recent call last)",
      "Cell \u001b[0;32mIn [1], line 5\u001b[0m\n\u001b[1;32m      2\u001b[0m \u001b[39mfrom\u001b[39;00m \u001b[39mgensim\u001b[39;00m\u001b[39m.\u001b[39;00m\u001b[39mmodels\u001b[39;00m \u001b[39mimport\u001b[39;00m KeyedVectors\n\u001b[1;32m      3\u001b[0m \u001b[39mimport\u001b[39;00m \u001b[39mnumpy\u001b[39;00m \u001b[39mas\u001b[39;00m \u001b[39mnp\u001b[39;00m\n\u001b[0;32m----> 5\u001b[0m mt \u001b[39m=\u001b[39m MeCab\u001b[39m.\u001b[39mTagger(\u001b[39m'\u001b[39m\u001b[39m'\u001b[39m)\n\u001b[1;32m      6\u001b[0m wv \u001b[39m=\u001b[39m KeyedVectors\u001b[39m.\u001b[39mload_word2vec_format(\u001b[39m'\u001b[39m\u001b[39m./wiki.vec.pt\u001b[39m\u001b[39m'\u001b[39m, binary\u001b[39m=\u001b[39m\u001b[39mTrue\u001b[39;00m)\n\u001b[1;32m      8\u001b[0m \u001b[39m# テキストのベクトルを計算\u001b[39;00m\n",
      "File \u001b[0;32m~/temp/pymagnitude_test/.venv/lib/python3.9/site-packages/MeCab/__init__.py:135\u001b[0m, in \u001b[0;36mTagger.__init__\u001b[0;34m(self, rawargs)\u001b[0m\n\u001b[1;32m    133\u001b[0m     \u001b[39msuper\u001b[39m(Tagger, \u001b[39mself\u001b[39m)\u001b[39m.\u001b[39m\u001b[39m__init__\u001b[39m(args)\n\u001b[1;32m    134\u001b[0m \u001b[39mexcept\u001b[39;00m \u001b[39mRuntimeError\u001b[39;00m \u001b[39mas\u001b[39;00m ee:\n\u001b[0;32m--> 135\u001b[0m     \u001b[39mraise\u001b[39;00m \u001b[39mRuntimeError\u001b[39;00m(error_info(rawargs)) \u001b[39mfrom\u001b[39;00m \u001b[39mee\u001b[39;00m\n",
      "\u001b[0;31mRuntimeError\u001b[0m: \n----------------------------------------------------------\n\nFailed initializing MeCab. Please see the README for possible solutions:\n\n    https://github.com/SamuraiT/mecab-python3#common-issues\n\nIf you are still having trouble, please file an issue here, and include the\nERROR DETAILS below:\n\n    https://github.com/SamuraiT/mecab-python3/issues\n\nissueを英語で書く必要はありません。\n\n------------------- ERROR DETAILS ------------------------\narguments: \n[ifs] no such file or directory: /usr/local/etc/mecabrc\n----------------------------------------------------------\n"
     ]
    }
   ],
   "source": [
    "import MeCab\n",
    "from gensim.models import KeyedVectors\n",
    "import numpy as np\n",
    "\n",
    "mt = MeCab.Tagger('')\n",
    "wv = KeyedVectors.load_word2vec_format('./wiki.vec.pt', binary=True)\n",
    "\n",
    "# テキストのベクトルを計算\n",
    "def get_vector(text):\n",
    "    sum_vec = np.zeros(200)\n",
    "    word_count = 0\n",
    "    node = mt.parseToNode(text)\n",
    "    while node:\n",
    "        fields = node.feature.split(\",\")\n",
    "        # 名詞、動詞、形容詞に限定\n",
    "        if fields[0] == '名詞' or fields[0] == '動詞' or fields[0] == '形容詞':\n",
    "            sum_vec += wv[node.surface]\n",
    "            word_count += 1\n",
    "        node = node.next\n",
    "\n",
    "    return sum_vec / word_count\n",
    "\n",
    "\n",
    "# cos類似度を計算\n",
    "def cos_sim(v1, v2):\n",
    "    return np.dot(v1, v2) / (np.linalg.norm(v1) * np.linalg.norm(v2))\n",
    "\n",
    "\n",
    "if __name__ == \"__main__\":\n",
    "    v1 = get_vector('昨日、お笑い番組を見た。')\n",
    "    v2 = get_vector('昨夜、テレビで漫才をやっていた。')\n",
    "    v3 = get_vector('昨日、公園に行った。')\n",
    "\n",
    "    print(cos_sim(v1, v2))\n",
    "    print(cos_sim(v1, v3))"
   ]
  }
 ],
 "metadata": {
  "kernelspec": {
   "display_name": "Python 3.10.7 ('.venv': poetry)",
   "language": "python",
   "name": "python3"
  },
  "language_info": {
   "codemirror_mode": {
    "name": "ipython",
    "version": 3
   },
   "file_extension": ".py",
   "mimetype": "text/x-python",
   "name": "python",
   "nbconvert_exporter": "python",
   "pygments_lexer": "ipython3",
   "version": "3.10.7"
  },
  "orig_nbformat": 4,
  "vscode": {
   "interpreter": {
    "hash": "319630aa71d88b2b0e9d40abd08db42feb1902d26b6625f9853ae04ae23c4cf4"
   }
  }
 },
 "nbformat": 4,
 "nbformat_minor": 2
}
